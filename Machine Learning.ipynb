{
 "cells": [
  {
   "cell_type": "code",
   "execution_count": 110,
   "id": "465cd135-f15a-4a23-938a-efff7345389a",
   "metadata": {},
   "outputs": [],
   "source": [
    "import pandas as pd\n",
    "import numpy as np\n",
    "import random\n",
    "from sklearn.preprocessing import StandardScaler, OneHotEncoder\n",
    "from sklearn.model_selection import (train_test_split,\n",
    "                                     cross_val_score, KFold, GridSearchCV)\n",
    "from sklearn.metrics import root_mean_squared_error as RMSE\n",
    "from sklearn.metrics import r2_score\n",
    "from IPython.display import SVG\n",
    "from graphviz import Source\n",
    "import matplotlib.pyplot as plt\n",
    "import os\n",
    "import seaborn as sns"
   ]
  },
  {
   "cell_type": "markdown",
   "id": "0ad70ec6-0358-4865-8b6f-6cb139076dec",
   "metadata": {},
   "source": [
    "## Machine Learning Models"
   ]
  },
  {
   "cell_type": "markdown",
   "id": "2b079bce-9595-4f2d-9d3a-74f2083229d0",
   "metadata": {},
   "source": [
    "### Artificial Neural Networks"
   ]
  },
  {
   "cell_type": "code",
   "execution_count": 25,
   "id": "b881b7f2-8374-4684-8abe-5211bb08c932",
   "metadata": {},
   "outputs": [],
   "source": [
    "data = pd.read_csv('final_data.csv', index_col=0)"
   ]
  },
  {
   "cell_type": "code",
   "execution_count": 26,
   "id": "20722a23-229f-481d-bf2a-a64c866f1900",
   "metadata": {},
   "outputs": [],
   "source": [
    "data = data.drop('Day', axis=1)"
   ]
  },
  {
   "cell_type": "code",
   "execution_count": 60,
   "id": "3d98810d-c516-4bfc-92f1-14daae467406",
   "metadata": {},
   "outputs": [
    {
     "data": {
      "text/html": [
       "<div>\n",
       "<style scoped>\n",
       "    .dataframe tbody tr th:only-of-type {\n",
       "        vertical-align: middle;\n",
       "    }\n",
       "\n",
       "    .dataframe tbody tr th {\n",
       "        vertical-align: top;\n",
       "    }\n",
       "\n",
       "    .dataframe thead th {\n",
       "        text-align: right;\n",
       "    }\n",
       "</style>\n",
       "<table border=\"1\" class=\"dataframe\">\n",
       "  <thead>\n",
       "    <tr style=\"text-align: right;\">\n",
       "      <th></th>\n",
       "      <th>P</th>\n",
       "      <th>T</th>\n",
       "      <th>Site</th>\n",
       "      <th>Discharge_cms</th>\n",
       "      <th>Area</th>\n",
       "      <th>Month</th>\n",
       "      <th>Year</th>\n",
       "    </tr>\n",
       "  </thead>\n",
       "  <tbody>\n",
       "    <tr>\n",
       "      <th>0</th>\n",
       "      <td>0.0067</td>\n",
       "      <td>9.3245</td>\n",
       "      <td>AboveWoodCamp</td>\n",
       "      <td>4.860850</td>\n",
       "      <td>402.836</td>\n",
       "      <td>6</td>\n",
       "      <td>2018</td>\n",
       "    </tr>\n",
       "    <tr>\n",
       "      <th>1</th>\n",
       "      <td>0.1799</td>\n",
       "      <td>9.8528</td>\n",
       "      <td>AboveWoodCamp</td>\n",
       "      <td>4.687956</td>\n",
       "      <td>402.836</td>\n",
       "      <td>6</td>\n",
       "      <td>2018</td>\n",
       "    </tr>\n",
       "  </tbody>\n",
       "</table>\n",
       "</div>"
      ],
      "text/plain": [
       "        P       T           Site  Discharge_cms     Area  Month  Year\n",
       "0  0.0067  9.3245  AboveWoodCamp       4.860850  402.836      6  2018\n",
       "1  0.1799  9.8528  AboveWoodCamp       4.687956  402.836      6  2018"
      ]
     },
     "execution_count": 60,
     "metadata": {},
     "output_type": "execute_result"
    }
   ],
   "source": [
    "data.head(2)"
   ]
  },
  {
   "cell_type": "code",
   "execution_count": 63,
   "id": "71bbeed2-ae40-4e16-8bb2-b3fa00382720",
   "metadata": {},
   "outputs": [],
   "source": [
    "data =data.reset_index()"
   ]
  },
  {
   "cell_type": "code",
   "execution_count": 64,
   "id": "1b8b01ee-99c2-413c-885e-ea8091c4c13c",
   "metadata": {},
   "outputs": [],
   "source": [
    "encoder = OneHotEncoder(sparse_output = False)\n",
    "site_encoded = encoder.fit_transform(data[['Site']])\n",
    "site_encoded_df = pd.DataFrame(site_encoded, columns=encoder.get_feature_names_out(['Site']))\n",
    "data_encoded = pd.concat([data.drop('Site', axis=1), site_encoded_df],axis=1, join = 'inner')"
   ]
  },
  {
   "cell_type": "code",
   "execution_count": 119,
   "id": "e948ff63-c588-40d0-9443-001c9f35c675",
   "metadata": {},
   "outputs": [],
   "source": [
    "X = data_encoded.drop('Discharge_cms', axis=1).values\n",
    "y = data_encoded.Discharge_cms.values\n",
    "X_train, X_test, y_train, y_test = train_test_split(X, y, test_size=0.2, random_state=42)\n",
    "\n",
    "X_train, X_val, y_train, y_val = train_test_split(X_train, y_train, test_size=0.2, random_state=42) "
   ]
  },
  {
   "cell_type": "code",
   "execution_count": 120,
   "id": "eda1bd58-1782-4899-9ab7-828da487f7e9",
   "metadata": {},
   "outputs": [],
   "source": [
    "x_scaler = StandardScaler()\n",
    "y_scaler = StandardScaler()\n",
    "\n",
    "X_train = x_scaler.fit_transform(X_train)\n",
    "X_val = x_scaler.transform(X_val)\n",
    "X_test = x_scaler.transform(X_test)\n",
    "\n",
    "y_train = y_scaler.fit_transform(y_train.reshape(-1, 1)).flatten()\n",
    "y_val = y_scaler.transform(y_val.reshape(-1, 1)).flatten()\n",
    "y_test = y_scaler.transform(y_test.reshape(-1, 1)).flatten()"
   ]
  },
  {
   "cell_type": "code",
   "execution_count": 71,
   "id": "2fadcfec-321b-4496-9304-6e23d447a581",
   "metadata": {},
   "outputs": [],
   "source": [
    "from tensorflow.keras.models import Sequential\n",
    "from tensorflow.keras.layers import Dense\n",
    "from tensorflow.keras.optimizers import Adam\n",
    "from tensorflow.keras.callbacks import EarlyStopping"
   ]
  },
  {
   "cell_type": "code",
   "execution_count": 72,
   "id": "cf24dbf3-8461-4d71-89c2-68c836e55630",
   "metadata": {},
   "outputs": [
    {
     "name": "stdout",
     "output_type": "stream",
     "text": [
      "Epoch 1/100\n",
      "418/418 [==============================] - 4s 4ms/step - loss: 0.6500 - mae: 0.4696 - val_loss: 0.4362 - val_mae: 0.3950\n",
      "Epoch 2/100\n",
      "418/418 [==============================] - 1s 3ms/step - loss: 0.4426 - mae: 0.3717 - val_loss: 0.3767 - val_mae: 0.3347\n",
      "Epoch 3/100\n",
      "418/418 [==============================] - 1s 3ms/step - loss: 0.3853 - mae: 0.3439 - val_loss: 0.3529 - val_mae: 0.3478\n",
      "Epoch 4/100\n",
      "418/418 [==============================] - 1s 4ms/step - loss: 0.3348 - mae: 0.3266 - val_loss: 0.2946 - val_mae: 0.2970\n",
      "Epoch 5/100\n",
      "418/418 [==============================] - 2s 4ms/step - loss: 0.3075 - mae: 0.3161 - val_loss: 0.2858 - val_mae: 0.3053\n",
      "Epoch 6/100\n",
      "418/418 [==============================] - 1s 3ms/step - loss: 0.2880 - mae: 0.3041 - val_loss: 0.2804 - val_mae: 0.3057\n",
      "Epoch 7/100\n",
      "418/418 [==============================] - 1s 3ms/step - loss: 0.2710 - mae: 0.2940 - val_loss: 0.2577 - val_mae: 0.2822\n",
      "Epoch 8/100\n",
      "418/418 [==============================] - 1s 3ms/step - loss: 0.2587 - mae: 0.2849 - val_loss: 0.2537 - val_mae: 0.2831\n",
      "Epoch 9/100\n",
      "418/418 [==============================] - 1s 3ms/step - loss: 0.2467 - mae: 0.2776 - val_loss: 0.2447 - val_mae: 0.2756\n",
      "Epoch 10/100\n",
      "418/418 [==============================] - 1s 3ms/step - loss: 0.2407 - mae: 0.2713 - val_loss: 0.2418 - val_mae: 0.2882\n",
      "Epoch 11/100\n",
      "418/418 [==============================] - 1s 4ms/step - loss: 0.2292 - mae: 0.2612 - val_loss: 0.2528 - val_mae: 0.2878\n",
      "Epoch 12/100\n",
      "418/418 [==============================] - 1s 4ms/step - loss: 0.2257 - mae: 0.2605 - val_loss: 0.2289 - val_mae: 0.2590\n",
      "Epoch 13/100\n",
      "418/418 [==============================] - 1s 3ms/step - loss: 0.2161 - mae: 0.2532 - val_loss: 0.2195 - val_mae: 0.2615\n",
      "Epoch 14/100\n",
      "418/418 [==============================] - 1s 4ms/step - loss: 0.2111 - mae: 0.2501 - val_loss: 0.2230 - val_mae: 0.2551\n",
      "Epoch 15/100\n",
      "418/418 [==============================] - 1s 3ms/step - loss: 0.2088 - mae: 0.2477 - val_loss: 0.2082 - val_mae: 0.2395\n",
      "Epoch 16/100\n",
      "418/418 [==============================] - 1s 3ms/step - loss: 0.2019 - mae: 0.2436 - val_loss: 0.2196 - val_mae: 0.2697\n",
      "Epoch 17/100\n",
      "418/418 [==============================] - 1s 4ms/step - loss: 0.1961 - mae: 0.2405 - val_loss: 0.1874 - val_mae: 0.2323\n",
      "Epoch 18/100\n",
      "418/418 [==============================] - 1s 3ms/step - loss: 0.1888 - mae: 0.2363 - val_loss: 0.1989 - val_mae: 0.2378\n",
      "Epoch 19/100\n",
      "418/418 [==============================] - 1s 4ms/step - loss: 0.1852 - mae: 0.2334 - val_loss: 0.1979 - val_mae: 0.2441\n",
      "Epoch 20/100\n",
      "418/418 [==============================] - 1s 3ms/step - loss: 0.1843 - mae: 0.2357 - val_loss: 0.1939 - val_mae: 0.2538\n",
      "Epoch 21/100\n",
      "418/418 [==============================] - 1s 4ms/step - loss: 0.1770 - mae: 0.2291 - val_loss: 0.1742 - val_mae: 0.2243\n",
      "Epoch 22/100\n",
      "418/418 [==============================] - 1s 3ms/step - loss: 0.1722 - mae: 0.2299 - val_loss: 0.1816 - val_mae: 0.2289\n",
      "Epoch 23/100\n",
      "418/418 [==============================] - 1s 4ms/step - loss: 0.1703 - mae: 0.2242 - val_loss: 0.1756 - val_mae: 0.2224\n",
      "Epoch 24/100\n",
      "418/418 [==============================] - 1s 4ms/step - loss: 0.1666 - mae: 0.2221 - val_loss: 0.1723 - val_mae: 0.2260\n",
      "Epoch 25/100\n",
      "418/418 [==============================] - 1s 4ms/step - loss: 0.1636 - mae: 0.2224 - val_loss: 0.1655 - val_mae: 0.2197\n",
      "Epoch 26/100\n",
      "418/418 [==============================] - 1s 3ms/step - loss: 0.1599 - mae: 0.2208 - val_loss: 0.1593 - val_mae: 0.2248\n",
      "Epoch 27/100\n",
      "418/418 [==============================] - 2s 4ms/step - loss: 0.1552 - mae: 0.2184 - val_loss: 0.1581 - val_mae: 0.2075\n",
      "Epoch 28/100\n",
      "418/418 [==============================] - 2s 4ms/step - loss: 0.1507 - mae: 0.2118 - val_loss: 0.1550 - val_mae: 0.2205\n",
      "Epoch 29/100\n",
      "418/418 [==============================] - 1s 4ms/step - loss: 0.1446 - mae: 0.2079 - val_loss: 0.1560 - val_mae: 0.2203\n",
      "Epoch 30/100\n",
      "418/418 [==============================] - 1s 4ms/step - loss: 0.1424 - mae: 0.2081 - val_loss: 0.1520 - val_mae: 0.2209\n",
      "Epoch 31/100\n",
      "418/418 [==============================] - 2s 4ms/step - loss: 0.1414 - mae: 0.2094 - val_loss: 0.1366 - val_mae: 0.2057\n",
      "Epoch 32/100\n",
      "418/418 [==============================] - 1s 4ms/step - loss: 0.1370 - mae: 0.2061 - val_loss: 0.1438 - val_mae: 0.2189\n",
      "Epoch 33/100\n",
      "418/418 [==============================] - 2s 4ms/step - loss: 0.1363 - mae: 0.2041 - val_loss: 0.1455 - val_mae: 0.2128\n",
      "Epoch 34/100\n",
      "418/418 [==============================] - 2s 4ms/step - loss: 0.1289 - mae: 0.2017 - val_loss: 0.1540 - val_mae: 0.2193\n",
      "Epoch 35/100\n",
      "418/418 [==============================] - 1s 3ms/step - loss: 0.1307 - mae: 0.2026 - val_loss: 0.1524 - val_mae: 0.2159\n",
      "Epoch 36/100\n",
      "418/418 [==============================] - 1s 3ms/step - loss: 0.1298 - mae: 0.1989 - val_loss: 0.1311 - val_mae: 0.2086\n",
      "Epoch 37/100\n",
      "418/418 [==============================] - 4s 10ms/step - loss: 0.1261 - mae: 0.1984 - val_loss: 0.1328 - val_mae: 0.2013\n",
      "Epoch 38/100\n",
      "418/418 [==============================] - 2s 5ms/step - loss: 0.1268 - mae: 0.1983 - val_loss: 0.1440 - val_mae: 0.2104\n",
      "Epoch 39/100\n",
      "418/418 [==============================] - 2s 4ms/step - loss: 0.1214 - mae: 0.1945 - val_loss: 0.1480 - val_mae: 0.2037\n",
      "Epoch 40/100\n",
      "418/418 [==============================] - 2s 4ms/step - loss: 0.1224 - mae: 0.1941 - val_loss: 0.1282 - val_mae: 0.2018\n",
      "Epoch 41/100\n",
      "418/418 [==============================] - 3s 6ms/step - loss: 0.1227 - mae: 0.1959 - val_loss: 0.1498 - val_mae: 0.2414\n",
      "Epoch 42/100\n",
      "418/418 [==============================] - 1s 3ms/step - loss: 0.1186 - mae: 0.1938 - val_loss: 0.1289 - val_mae: 0.2024\n",
      "Epoch 43/100\n",
      "418/418 [==============================] - 2s 4ms/step - loss: 0.1224 - mae: 0.1982 - val_loss: 0.1274 - val_mae: 0.1937\n",
      "Epoch 44/100\n",
      "418/418 [==============================] - 2s 4ms/step - loss: 0.1188 - mae: 0.1932 - val_loss: 0.1242 - val_mae: 0.1866\n",
      "Epoch 45/100\n",
      "418/418 [==============================] - 1s 3ms/step - loss: 0.1159 - mae: 0.1908 - val_loss: 0.1292 - val_mae: 0.2090\n",
      "Epoch 46/100\n",
      "418/418 [==============================] - 2s 4ms/step - loss: 0.1139 - mae: 0.1905 - val_loss: 0.1260 - val_mae: 0.1963\n",
      "Epoch 47/100\n",
      "418/418 [==============================] - 1s 3ms/step - loss: 0.1164 - mae: 0.1904 - val_loss: 0.1205 - val_mae: 0.1935\n",
      "Epoch 48/100\n",
      "418/418 [==============================] - 2s 4ms/step - loss: 0.1162 - mae: 0.1889 - val_loss: 0.1236 - val_mae: 0.1953\n",
      "Epoch 49/100\n",
      "418/418 [==============================] - 1s 4ms/step - loss: 0.1122 - mae: 0.1855 - val_loss: 0.1303 - val_mae: 0.2027\n",
      "Epoch 50/100\n",
      "418/418 [==============================] - 1s 3ms/step - loss: 0.1129 - mae: 0.1887 - val_loss: 0.1174 - val_mae: 0.1914\n",
      "Epoch 51/100\n",
      "418/418 [==============================] - 1s 3ms/step - loss: 0.1143 - mae: 0.1911 - val_loss: 0.1435 - val_mae: 0.2347\n",
      "Epoch 52/100\n",
      "418/418 [==============================] - 1s 3ms/step - loss: 0.1102 - mae: 0.1844 - val_loss: 0.1230 - val_mae: 0.1949\n",
      "Epoch 53/100\n",
      "418/418 [==============================] - 1s 4ms/step - loss: 0.1090 - mae: 0.1851 - val_loss: 0.1233 - val_mae: 0.2053\n",
      "Epoch 54/100\n",
      "418/418 [==============================] - 1s 3ms/step - loss: 0.1112 - mae: 0.1855 - val_loss: 0.1178 - val_mae: 0.1851\n",
      "Epoch 55/100\n",
      "418/418 [==============================] - 2s 4ms/step - loss: 0.1078 - mae: 0.1835 - val_loss: 0.1163 - val_mae: 0.1836\n",
      "Epoch 56/100\n",
      "418/418 [==============================] - 1s 3ms/step - loss: 0.1111 - mae: 0.1832 - val_loss: 0.1304 - val_mae: 0.1925\n",
      "Epoch 57/100\n",
      "418/418 [==============================] - 1s 3ms/step - loss: 0.1087 - mae: 0.1825 - val_loss: 0.1215 - val_mae: 0.1987\n",
      "Epoch 58/100\n",
      "418/418 [==============================] - 1s 3ms/step - loss: 0.1074 - mae: 0.1794 - val_loss: 0.1101 - val_mae: 0.1818\n",
      "Epoch 59/100\n",
      "418/418 [==============================] - 1s 3ms/step - loss: 0.1070 - mae: 0.1815 - val_loss: 0.1192 - val_mae: 0.1884\n",
      "Epoch 60/100\n",
      "418/418 [==============================] - 1s 3ms/step - loss: 0.1092 - mae: 0.1822 - val_loss: 0.1196 - val_mae: 0.1847\n",
      "Epoch 61/100\n",
      "418/418 [==============================] - 2s 4ms/step - loss: 0.1081 - mae: 0.1835 - val_loss: 0.1208 - val_mae: 0.1993\n",
      "Epoch 62/100\n",
      "418/418 [==============================] - 1s 4ms/step - loss: 0.1088 - mae: 0.1840 - val_loss: 0.1220 - val_mae: 0.1986\n",
      "Epoch 63/100\n",
      "418/418 [==============================] - 1s 3ms/step - loss: 0.1059 - mae: 0.1806 - val_loss: 0.1245 - val_mae: 0.1970\n",
      "Epoch 64/100\n",
      "418/418 [==============================] - 1s 3ms/step - loss: 0.1041 - mae: 0.1783 - val_loss: 0.1182 - val_mae: 0.1825\n",
      "Epoch 65/100\n",
      "418/418 [==============================] - 2s 4ms/step - loss: 0.1049 - mae: 0.1798 - val_loss: 0.1200 - val_mae: 0.1864\n",
      "Epoch 66/100\n",
      "418/418 [==============================] - 2s 4ms/step - loss: 0.1039 - mae: 0.1783 - val_loss: 0.1169 - val_mae: 0.1836\n",
      "Epoch 67/100\n",
      "418/418 [==============================] - 2s 4ms/step - loss: 0.1039 - mae: 0.1798 - val_loss: 0.1137 - val_mae: 0.1879\n",
      "Epoch 68/100\n",
      "417/418 [============================>.] - ETA: 0s - loss: 0.1020 - mae: 0.1774Restoring model weights from the end of the best epoch: 58.\n",
      "418/418 [==============================] - 2s 4ms/step - loss: 0.1022 - mae: 0.1775 - val_loss: 0.1186 - val_mae: 0.1895\n",
      "Epoch 68: early stopping\n"
     ]
    }
   ],
   "source": [
    "model = Sequential([\n",
    "    Dense(64, activation='relu', input_dim=X_train.shape[1]),\n",
    "    Dense(32, activation='relu'),\n",
    "    Dense(16, activation='relu'),\n",
    "    Dense(1)  # Output layer for regression\n",
    "])\n",
    "model.compile(optimizer=Adam(learning_rate=0.001), loss='mse', metrics=['mae'])\n",
    "early_stopping = EarlyStopping(monitor='val_loss', \n",
    "                               patience=10,   # Number of epochs to wait for improvement\n",
    "                               restore_best_weights=True,  # Restore the best model weights after stopping\n",
    "                               verbose=1)\n",
    "history = model.fit(\n",
    "    X_train, y_train,\n",
    "    validation_data=(X_val, y_val),\n",
    "    epochs=100,\n",
    "    batch_size=32,\n",
    "    callbacks=[early_stopping], \n",
    "    verbose=1\n",
    ")"
   ]
  },
  {
   "cell_type": "code",
   "execution_count": 73,
   "id": "42df5eaf-8ff6-4257-bf83-ce53a88b940e",
   "metadata": {},
   "outputs": [
    {
     "data": {
      "image/png": "[encoded data removed]",
      "text/plain": [
       "<Figure size 640x480 with 1 Axes>"
      ]
     },
     "metadata": {},
     "output_type": "display_data"
    }
   ],
   "source": [
    "plt.plot(history.history['loss'], label='Training Loss')\n",
    "plt.plot(history.history['val_loss'], label='Validation Loss')\n",
    "plt.xlabel('Epochs')\n",
    "plt.ylabel('Loss')\n",
    "plt.legend()\n",
    "plt.title('Training and Validation Loss')\n",
    "plt.show()"
   ]
  },
  {
   "cell_type": "code",
   "execution_count": 94,
   "id": "491e3fb5-c3ca-4f0c-8102-89cab14e4f69",
   "metadata": {},
   "outputs": [
    {
     "name": "stdout",
     "output_type": "stream",
     "text": [
      "131/131 [==============================] - 0s 2ms/step\n"
     ]
    }
   ],
   "source": [
    "y_predicted = model.predict(X_test)\n",
    "y_predicted = y_scaler.inverse_transform(y_predicted.reshape(-1, 1)).flatten()\n",
    "y_test1 = y_scaler.inverse_transform(y_test.reshape(-1, 1)).flatten()"
   ]
  },
  {
   "cell_type": "code",
   "execution_count": 102,
   "id": "41a3645c-5fe2-416f-b409-7183a01b53df",
   "metadata": {},
   "outputs": [],
   "source": [
    "Error = RMSE(y_test1, y_predicted)"
   ]
  },
  {
   "cell_type": "code",
   "execution_count": 103,
   "id": "ae8625eb-48d4-44ad-9350-3a72cdbe5e1c",
   "metadata": {},
   "outputs": [
    {
     "name": "stdout",
     "output_type": "stream",
     "text": [
      "2.073415711217129\n"
     ]
    }
   ],
   "source": [
    "print(Error)"
   ]
  },
  {
   "cell_type": "code",
   "execution_count": 108,
   "id": "c8529908-31e1-4f2d-985a-57810029be2b",
   "metadata": {},
   "outputs": [],
   "source": [
    "r2 = r2_score(y_test1, y_predicted)"
   ]
  },
  {
   "cell_type": "code",
   "execution_count": 109,
   "id": "3ee26898-f6bb-4c25-a677-2c8ef0a2e463",
   "metadata": {},
   "outputs": [
    {
     "name": "stdout",
     "output_type": "stream",
     "text": [
      "0.8835333302072591\n"
     ]
    }
   ],
   "source": [
    "print(r2)"
   ]
  },
  {
   "cell_type": "code",
   "execution_count": 98,
   "id": "4222c362-d7ef-4111-832e-e42e7f1f2439",
   "metadata": {},
   "outputs": [
    {
     "data": {
      "text/plain": [
       "<matplotlib.collections.PathCollection at 0x1af43ccba10>"
      ]
     },
     "execution_count": 98,
     "metadata": {},
     "output_type": "execute_result"
    },
    {
     "data": {
      "image/png": "[encoded data removed]",
      "text/plain": [
       "<Figure size 640x480 with 1 Axes>"
      ]
     },
     "metadata": {},
     "output_type": "display_data"
    }
   ],
   "source": [
    "plt.scatter(y_test1, y_predicted)"
   ]
  },
  {
   "cell_type": "code",
   "execution_count": 101,
   "id": "6fc00449-360c-4f35-b3f3-7a3c62d26a0a",
   "metadata": {},
   "outputs": [
    {
     "data": {
      "text/plain": [
       "4.653368707721256"
      ]
     },
     "execution_count": 101,
     "metadata": {},
     "output_type": "execute_result"
    }
   ],
   "source": [
    "y_test.mean()"
   ]
  },
  {
   "cell_type": "code",
   "execution_count": 121,
   "id": "7adc82bf-e870-4656-9de2-4b1c1be7c86d",
   "metadata": {},
   "outputs": [
    {
     "name": "stdout",
     "output_type": "stream",
     "text": [
      "Epoch 1/100\n",
      "418/418 [==============================] - 4s 4ms/step - loss: 0.6013 - mae: 0.4457 - val_loss: 0.4405 - val_mae: 0.3809\n",
      "Epoch 2/100\n",
      "418/418 [==============================] - 1s 3ms/step - loss: 0.4395 - mae: 0.3639 - val_loss: 0.4148 - val_mae: 0.3556\n",
      "Epoch 3/100\n",
      "418/418 [==============================] - 1s 3ms/step - loss: 0.4029 - mae: 0.3431 - val_loss: 0.3681 - val_mae: 0.3364\n",
      "Epoch 4/100\n",
      "418/418 [==============================] - 1s 3ms/step - loss: 0.3624 - mae: 0.3269 - val_loss: 0.3485 - val_mae: 0.3118\n",
      "Epoch 5/100\n",
      "418/418 [==============================] - 1s 3ms/step - loss: 0.3279 - mae: 0.3108 - val_loss: 0.3144 - val_mae: 0.3043\n",
      "Epoch 6/100\n",
      "418/418 [==============================] - 1s 3ms/step - loss: 0.2932 - mae: 0.2953 - val_loss: 0.2874 - val_mae: 0.2942\n",
      "Epoch 7/100\n",
      "418/418 [==============================] - 1s 3ms/step - loss: 0.2683 - mae: 0.2827 - val_loss: 0.2754 - val_mae: 0.2823\n",
      "Epoch 8/100\n",
      "418/418 [==============================] - 1s 3ms/step - loss: 0.2558 - mae: 0.2769 - val_loss: 0.2633 - val_mae: 0.2739\n",
      "Epoch 9/100\n",
      "418/418 [==============================] - 1s 3ms/step - loss: 0.2449 - mae: 0.2698 - val_loss: 0.2396 - val_mae: 0.2684\n",
      "Epoch 10/100\n",
      "418/418 [==============================] - 1s 3ms/step - loss: 0.2365 - mae: 0.2651 - val_loss: 0.2327 - val_mae: 0.2554\n",
      "Epoch 11/100\n",
      "418/418 [==============================] - 1s 3ms/step - loss: 0.2281 - mae: 0.2584 - val_loss: 0.2409 - val_mae: 0.2791\n",
      "Epoch 12/100\n",
      "418/418 [==============================] - 1s 3ms/step - loss: 0.2145 - mae: 0.2523 - val_loss: 0.2243 - val_mae: 0.2489\n",
      "Epoch 13/100\n",
      "418/418 [==============================] - 1s 3ms/step - loss: 0.2016 - mae: 0.2429 - val_loss: 0.2222 - val_mae: 0.2504\n",
      "Epoch 14/100\n",
      "418/418 [==============================] - 1s 3ms/step - loss: 0.2024 - mae: 0.2440 - val_loss: 0.2020 - val_mae: 0.2456\n",
      "Epoch 15/100\n",
      "418/418 [==============================] - 1s 3ms/step - loss: 0.1830 - mae: 0.2336 - val_loss: 0.2038 - val_mae: 0.2423\n",
      "Epoch 16/100\n",
      "418/418 [==============================] - 1s 3ms/step - loss: 0.1811 - mae: 0.2328 - val_loss: 0.1827 - val_mae: 0.2298\n",
      "Epoch 17/100\n",
      "418/418 [==============================] - 1s 3ms/step - loss: 0.1709 - mae: 0.2251 - val_loss: 0.1851 - val_mae: 0.2238\n",
      "Epoch 18/100\n",
      "418/418 [==============================] - 1s 3ms/step - loss: 0.1649 - mae: 0.2198 - val_loss: 0.1900 - val_mae: 0.2312\n",
      "Epoch 19/100\n",
      "418/418 [==============================] - 1s 3ms/step - loss: 0.1655 - mae: 0.2219 - val_loss: 0.1681 - val_mae: 0.2190\n",
      "Epoch 20/100\n",
      "418/418 [==============================] - 1s 3ms/step - loss: 0.1551 - mae: 0.2149 - val_loss: 0.1676 - val_mae: 0.2199\n",
      "Epoch 21/100\n",
      "418/418 [==============================] - 1s 3ms/step - loss: 0.1591 - mae: 0.2163 - val_loss: 0.1698 - val_mae: 0.2154\n",
      "Epoch 22/100\n",
      "418/418 [==============================] - 1s 3ms/step - loss: 0.1459 - mae: 0.2089 - val_loss: 0.1848 - val_mae: 0.2232\n",
      "Epoch 23/100\n",
      "418/418 [==============================] - 1s 3ms/step - loss: 0.1478 - mae: 0.2088 - val_loss: 0.1651 - val_mae: 0.2240\n",
      "Epoch 24/100\n",
      "418/418 [==============================] - 1s 3ms/step - loss: 0.1444 - mae: 0.2064 - val_loss: 0.1545 - val_mae: 0.2135\n",
      "Epoch 25/100\n",
      "418/418 [==============================] - 1s 3ms/step - loss: 0.1406 - mae: 0.2041 - val_loss: 0.1633 - val_mae: 0.2133\n",
      "Epoch 26/100\n",
      "418/418 [==============================] - 1s 3ms/step - loss: 0.1352 - mae: 0.2010 - val_loss: 0.1533 - val_mae: 0.2030\n",
      "Epoch 27/100\n",
      "418/418 [==============================] - 1s 3ms/step - loss: 0.1363 - mae: 0.2011 - val_loss: 0.1484 - val_mae: 0.2011\n",
      "Epoch 28/100\n",
      "418/418 [==============================] - 1s 3ms/step - loss: 0.1299 - mae: 0.1950 - val_loss: 0.1432 - val_mae: 0.2040\n",
      "Epoch 29/100\n",
      "418/418 [==============================] - 1s 3ms/step - loss: 0.1310 - mae: 0.1967 - val_loss: 0.1510 - val_mae: 0.2021\n",
      "Epoch 30/100\n",
      "418/418 [==============================] - 2s 4ms/step - loss: 0.1305 - mae: 0.1954 - val_loss: 0.1515 - val_mae: 0.2096\n",
      "Epoch 31/100\n",
      "418/418 [==============================] - 1s 3ms/step - loss: 0.1299 - mae: 0.1934 - val_loss: 0.1431 - val_mae: 0.1937\n",
      "Epoch 32/100\n",
      "418/418 [==============================] - 1s 3ms/step - loss: 0.1269 - mae: 0.1909 - val_loss: 0.1471 - val_mae: 0.1964\n",
      "Epoch 33/100\n",
      "418/418 [==============================] - 1s 3ms/step - loss: 0.1263 - mae: 0.1907 - val_loss: 0.1303 - val_mae: 0.1952\n",
      "Epoch 34/100\n",
      "418/418 [==============================] - 1s 3ms/step - loss: 0.1210 - mae: 0.1874 - val_loss: 0.1382 - val_mae: 0.1922\n",
      "Epoch 35/100\n",
      "418/418 [==============================] - 1s 3ms/step - loss: 0.1227 - mae: 0.1875 - val_loss: 0.1451 - val_mae: 0.2000\n",
      "Epoch 36/100\n",
      "418/418 [==============================] - 1s 3ms/step - loss: 0.1233 - mae: 0.1909 - val_loss: 0.1383 - val_mae: 0.1965\n",
      "Epoch 37/100\n",
      "418/418 [==============================] - 1s 3ms/step - loss: 0.1224 - mae: 0.1891 - val_loss: 0.1504 - val_mae: 0.2039\n",
      "Epoch 38/100\n",
      "418/418 [==============================] - 1s 3ms/step - loss: 0.1204 - mae: 0.1848 - val_loss: 0.1378 - val_mae: 0.1942\n",
      "Epoch 39/100\n",
      "418/418 [==============================] - 2s 4ms/step - loss: 0.1165 - mae: 0.1820 - val_loss: 0.1309 - val_mae: 0.1924\n",
      "Epoch 40/100\n",
      "418/418 [==============================] - 1s 3ms/step - loss: 0.1166 - mae: 0.1829 - val_loss: 0.1320 - val_mae: 0.1866\n",
      "Epoch 41/100\n",
      "418/418 [==============================] - 1s 3ms/step - loss: 0.1133 - mae: 0.1796 - val_loss: 0.1329 - val_mae: 0.1946\n",
      "Epoch 42/100\n",
      "418/418 [==============================] - 1s 3ms/step - loss: 0.1128 - mae: 0.1812 - val_loss: 0.1355 - val_mae: 0.1886\n",
      "Epoch 43/100\n",
      "416/418 [============================>.] - ETA: 0s - loss: 0.1152 - mae: 0.1822Restoring model weights from the end of the best epoch: 33.\n",
      "418/418 [==============================] - 1s 3ms/step - loss: 0.1151 - mae: 0.1821 - val_loss: 0.1343 - val_mae: 0.1925\n",
      "Epoch 43: early stopping\n"
     ]
    }
   ],
   "source": [
    "model = Sequential([\n",
    "    Dense(32, activation='relu', input_dim=X_train.shape[1]),\n",
    "    Dense(64, activation='relu'),\n",
    "    Dense(32, activation='relu'),\n",
    "    Dense(8, activation='relu'),\n",
    "    Dense(1)  # Output layer for regression\n",
    "])\n",
    "model.compile(optimizer=Adam(learning_rate=0.001), loss='mse', metrics=['mae'])\n",
    "early_stopping = EarlyStopping(monitor='val_loss', \n",
    "                               patience=10,   # Number of epochs to wait for improvement\n",
    "                               restore_best_weights=True,  # Restore the best model weights after stopping\n",
    "                               verbose=1)\n",
    "history = model.fit(\n",
    "    X_train, y_train,\n",
    "    validation_data=(X_val, y_val),\n",
    "    epochs=100,\n",
    "    batch_size=32,\n",
    "    callbacks=[early_stopping], \n",
    "    verbose=1\n",
    ")"
   ]
  },
  {
   "cell_type": "code",
   "execution_count": 124,
   "id": "3e0706d2-8e7d-467c-a542-2616ef1cfdb4",
   "metadata": {},
   "outputs": [
    {
     "data": {
      "image/png": "[encoded data removed]",
      "text/plain": [
       "<Figure size 640x480 with 1 Axes>"
      ]
     },
     "metadata": {},
     "output_type": "display_data"
    }
   ],
   "source": [
    "plt.plot(history.history['loss'], label='Training Loss')\n",
    "plt.plot(history.history['val_loss'], label='Validation Loss')\n",
    "plt.xlabel('Epochs')\n",
    "plt.ylabel('Loss')\n",
    "plt.legend()\n",
    "plt.title('Training and Validation Loss')\n",
    "plt.show()"
   ]
  },
  {
   "cell_type": "code",
   "execution_count": 128,
   "id": "cf6834fc-2ffa-4c9d-808c-e7d6865ed06b",
   "metadata": {},
   "outputs": [
    {
     "name": "stdout",
     "output_type": "stream",
     "text": [
      "131/131 [==============================] - 0s 2ms/step\n",
      "RMSE : 2.1777910455842853\n"
     ]
    }
   ],
   "source": [
    "y_predicted = model.predict(X_test)\n",
    "y_predicted = y_scaler.inverse_transform(y_predicted.reshape(-1, 1)).flatten()\n",
    "y_test1 = y_scaler.inverse_transform(y_test.reshape(-1, 1)).flatten()\n",
    "Error = RMSE(y_test1, y_predicted)\n",
    "print(f'RMSE : {Error}')"
   ]
  },
  {
   "cell_type": "code",
   "execution_count": 130,
   "id": "7e26dbd3-fef3-48c0-9e7b-436d7bbf64da",
   "metadata": {},
   "outputs": [
    {
     "name": "stdout",
     "output_type": "stream",
     "text": [
      "R_squared: 0.871512374566144\n"
     ]
    }
   ],
   "source": [
    "r2 = r2_score(y_test1, y_predicted)\n",
    "print(f'R_squared: {r2}')"
   ]
  },
  {
   "cell_type": "code",
   "execution_count": 131,
   "id": "1192f4a5-95bb-4127-a66a-fde4e66168c4",
   "metadata": {},
   "outputs": [
    {
     "data": {
      "text/plain": [
       "<matplotlib.collections.PathCollection at 0x1af45c5bfd0>"
      ]
     },
     "execution_count": 131,
     "metadata": {},
     "output_type": "execute_result"
    },
    {
     "data": {
      "image/png": "[encoded data removed]",
      "text/plain": [
       "<Figure size 640x480 with 1 Axes>"
      ]
     },
     "metadata": {},
     "output_type": "display_data"
    }
   ],
   "source": [
    "plt.scatter(y_test1, y_predicted)"
   ]
  },
  {
   "cell_type": "markdown",
   "id": "4d4abc05-42d8-4ab5-a628-bc8bec5c40e8",
   "metadata": {},
   "source": [
    "### Linear Regression"
   ]
  },
  {
   "cell_type": "code",
   "execution_count": 141,
   "id": "fc0eb1aa-ac4e-4ebc-bde9-7e0cf82dd566",
   "metadata": {},
   "outputs": [
    {
     "data": {
      "text/plain": [
       "{'Cross-validation RMSE (mean)': 5.366255335627637,\n",
       " 'Cross-validation RMSE (std)': 0.11687886306210961,\n",
       " 'Test RMSE': 5.532488987286979,\n",
       " 'Test r2_score': 0.17077955058865035}"
      ]
     },
     "execution_count": 141,
     "metadata": {},
     "output_type": "execute_result"
    }
   ],
   "source": [
    "from sklearn.model_selection import train_test_split\n",
    "from sklearn.linear_model import LinearRegression\n",
    "from sklearn.model_selection import cross_val_score\n",
    "from sklearn.metrics import mean_squared_error\n",
    "import numpy as np\n",
    "data = pd.read_csv('final_data.csv', index_col=0)\n",
    "data = data.drop('Day', axis=1)\n",
    "# One-hot encode the 'Site' feature\n",
    "data = pd.get_dummies(data, columns=[\"Site\"], drop_first=True)\n",
    "\n",
    "# Define features (X) and target (y)\n",
    "X = data.drop(columns=[\"Discharge_cms\"])\n",
    "y = data[\"Discharge_cms\"]\n",
    "\n",
    "# Train-test split\n",
    "X_train, X_test, y_train, y_test = train_test_split(X, y, test_size=0.2, random_state=42)\n",
    "\n",
    "# Initialize the Linear Regression model\n",
    "linear_model = LinearRegression()\n",
    "\n",
    "# Cross-validation scores\n",
    "cv_scores = cross_val_score(linear_model, X_train, y_train, cv=5, scoring=\"neg_mean_squared_error\")\n",
    "cv_rmse = np.sqrt(-cv_scores)\n",
    "\n",
    "# Fit the model on training data and predict on test data\n",
    "linear_model.fit(X_train, y_train)\n",
    "y_pred = linear_model.predict(X_test)\n",
    "\n",
    "# Evaluate the model\n",
    "test_rmse = np.sqrt(mean_squared_error(y_test, y_pred))\n",
    "test_r2 = r2_score(y_test, y_pred)\n",
    "\n",
    "# Output results\n",
    "{\n",
    "    \"Cross-validation RMSE (mean)\": cv_rmse.mean(),\n",
    "    \"Cross-validation RMSE (std)\": cv_rmse.std(),\n",
    "    \"Test RMSE\": test_rmse,\n",
    "    \"Test r2_score\" : test_r2\n",
    "}"
   ]
  },
  {
   "cell_type": "markdown",
   "id": "1812ef6d-0b45-4af0-b2b3-709b1bc840bd",
   "metadata": {},
   "source": [
    "### KNeighborsRegressor"
   ]
  },
  {
   "cell_type": "code",
   "execution_count": 149,
   "id": "4399a105-760f-438f-b5e3-302b45c10f37",
   "metadata": {},
   "outputs": [
    {
     "name": "stdout",
     "output_type": "stream",
     "text": [
      "Best Parameters: {'metric': 'euclidean', 'n_neighbors': 5, 'weights': 'uniform'}\n",
      "Test RMSE: 2.536560538864849\n",
      "Test Rsquared: 0.825691184691344\n"
     ]
    }
   ],
   "source": [
    "from sklearn.neighbors import KNeighborsRegressor\n",
    "from sklearn.preprocessing import StandardScaler\n",
    "from sklearn.model_selection import GridSearchCV, train_test_split\n",
    "from sklearn.metrics import mean_squared_error\n",
    "import numpy as np\n",
    "\n",
    "# Remove the 'Site' feature for KNN\n",
    "X_knn = data.drop(columns=[\"Discharge_cms\"] + [col for col in data.columns if \"Site_\" in col])\n",
    "\n",
    "# Scale the features\n",
    "scaler = StandardScaler()\n",
    "X_knn_scaled = scaler.fit_transform(X_knn)\n",
    "\n",
    "# Train-test split\n",
    "X_train_knn, X_test_knn, y_train_knn, y_test_knn = train_test_split(X_knn_scaled, y, test_size=0.2, random_state=42)\n",
    "\n",
    "# Initialize the KNN model\n",
    "knn = KNeighborsRegressor()\n",
    "\n",
    "# Define a parameter grid for GridSearchCV\n",
    "param_grid = {\n",
    "    \"n_neighbors\": range(3,31,2),\n",
    "    \"weights\": [\"uniform\"],\n",
    "    \"metric\": [\"euclidean\"]\n",
    "}\n",
    "\n",
    "# Perform GridSearchCV for hyperparameter tuning\n",
    "grid_search_knn = GridSearchCV(knn, param_grid, cv=5, scoring=\"neg_mean_squared_error\", n_jobs=-1)\n",
    "grid_search_knn.fit(X_train_knn, y_train_knn)\n",
    "\n",
    "# Best model and predictions\n",
    "best_knn = grid_search_knn.best_estimator_\n",
    "y_pred_knn = best_knn.predict(X_test_knn)\n",
    "\n",
    "# Evaluate the model\n",
    "test_rmse_knn = np.sqrt(mean_squared_error(y_test_knn, y_pred_knn))\n",
    "test_r2 = r2_score(y_test_knn, y_pred_knn)\n",
    "# Print results\n",
    "print(\"Best Parameters:\", grid_search_knn.best_params_)\n",
    "print(\"Test RMSE:\", test_rmse_knn)\n",
    "print(\"Test Rsquared:\", test_r2)"
   ]
  },
  {
   "cell_type": "markdown",
   "id": "8469722f-c7d3-4b00-8264-9825ecdedbd7",
   "metadata": {},
   "source": [
    "### RandomForestRegressor"
   ]
  },
  {
   "cell_type": "code",
   "execution_count": 151,
   "id": "6ae25976-a86c-43a8-88e2-0c132063017f",
   "metadata": {},
   "outputs": [
    {
     "name": "stdout",
     "output_type": "stream",
     "text": [
      "Best Parameters: {'max_depth': 15, 'n_estimators': 200}\n",
      "Test RMSE: 1.756258925015841\n",
      "Test R2 score: 0.9164385483585386\n"
     ]
    }
   ],
   "source": [
    "from sklearn.ensemble import RandomForestRegressor\n",
    "from sklearn.model_selection import GridSearchCV, train_test_split\n",
    "from sklearn.metrics import mean_squared_error\n",
    "import numpy as np\n",
    "\n",
    "# Prepare the data (use the encoded dataset from earlier)\n",
    "X_rf = data.drop(columns=[\"Discharge_cms\"])\n",
    "y_rf = data[\"Discharge_cms\"]\n",
    "\n",
    "# Train-test split\n",
    "X_train_rf, X_test_rf, y_train_rf, y_test_rf = train_test_split(X_rf, y_rf, test_size=0.2, random_state=42)\n",
    "\n",
    "# Initialize the Random Forest Regressor\n",
    "rf = RandomForestRegressor(random_state=42)\n",
    "\n",
    "# Define a parameter grid for GridSearchCV\n",
    "param_grid_rf = {\n",
    "    \"n_estimators\": [100, 200, 300],\n",
    "    \"max_depth\": [10, 15, 20, 25],}\n",
    "\n",
    "# Perform GridSearchCV for hyperparameter tuning\n",
    "grid_search_rf = GridSearchCV(rf, param_grid_rf, cv=5, scoring=\"neg_mean_squared_error\", n_jobs=-1)\n",
    "grid_search_rf.fit(X_train_rf, y_train_rf)\n",
    "\n",
    "# Best model and predictions\n",
    "best_rf = grid_search_rf.best_estimator_\n",
    "y_pred_rf = best_rf.predict(X_test_rf)\n",
    "\n",
    "# Evaluate the model\n",
    "test_rmse_rf = np.sqrt(mean_squared_error(y_test_rf, y_pred_rf))\n",
    "test_rmse_r2 = r2_score(y_test_rf, y_pred_rf)\n",
    "# Print results\n",
    "print(\"Best Parameters:\", grid_search_rf.best_params_)\n",
    "print(\"Test RMSE:\", test_rmse_rf)\n",
    "print(\"Test R2 score:\", test_rmse_r2)"
   ]
  },
  {
   "cell_type": "markdown",
   "id": "2fe2e4be-3747-4a3e-92ab-2b2f96165825",
   "metadata": {},
   "source": [
    "### XGBRegressor"
   ]
  },
  {
   "cell_type": "code",
   "execution_count": 153,
   "id": "33c690ba-a1d5-4840-8a19-8327803c8adc",
   "metadata": {},
   "outputs": [
    {
     "name": "stdout",
     "output_type": "stream",
     "text": [
      "Best Parameters: {'learning_rate': 0.2, 'max_depth': 7, 'n_estimators': 300}\n",
      "Test RMSE: 1.653943672973556\n",
      "Test R2: 0.9258911084475292\n"
     ]
    }
   ],
   "source": [
    "from xgboost import XGBRegressor\n",
    "from sklearn.model_selection import GridSearchCV, train_test_split\n",
    "from sklearn.metrics import mean_squared_error\n",
    "import numpy as np\n",
    "\n",
    "# Prepare the data (use the encoded dataset from earlier)\n",
    "X_xgb = data.drop(columns=[\"Discharge_cms\"])\n",
    "y_xgb = data[\"Discharge_cms\"]\n",
    "\n",
    "# Train-test split\n",
    "X_train_xgb, X_test_xgb, y_train_xgb, y_test_xgb = train_test_split(X_xgb, y_xgb, test_size=0.2, random_state=42)\n",
    "\n",
    "# Initialize the XGBoost Regressor\n",
    "xgb = XGBRegressor(random_state=42, objective='reg:squarederror')\n",
    "\n",
    "# Define a parameter grid for GridSearchCV\n",
    "param_grid_xgb = {\n",
    "    \"n_estimators\": [100, 200, 300],\n",
    "    \"learning_rate\": [0.01, 0.1, 0.2],\n",
    "    \"max_depth\": [3, 5, 7, 10],\n",
    "}\n",
    "\n",
    "# Perform GridSearchCV for hyperparameter tuning\n",
    "grid_search_xgb = GridSearchCV(xgb, param_grid_xgb, cv=5, scoring=\"neg_mean_squared_error\", n_jobs=-1)\n",
    "grid_search_xgb.fit(X_train_xgb, y_train_xgb)\n",
    "\n",
    "# Best model and predictions\n",
    "best_xgb = grid_search_xgb.best_estimator_\n",
    "y_pred_xgb = best_xgb.predict(X_test_xgb)\n",
    "\n",
    "# Evaluate the model\n",
    "test_rmse_xgb = np.sqrt(mean_squared_error(y_test_xgb, y_pred_xgb))\n",
    "test_r2_xgb = r2_score(y_test_xgb, y_pred_xgb)\n",
    "# Print results\n",
    "print(\"Best Parameters:\", grid_search_xgb.best_params_)\n",
    "print(\"Test RMSE:\", test_rmse_xgb)\n",
    "print(\"Test R2:\", test_r2_xgb)"
   ]
  },
  {
   "cell_type": "markdown",
   "id": "5c423efa-b5d3-4f8d-8aa8-72fef6c26b0c",
   "metadata": {},
   "source": [
    "### SVR\n",
    "#### Running this block of code will take considerable amount of time"
   ]
  },
  {
   "cell_type": "code",
   "execution_count": 161,
   "id": "56ff1e36-fce9-41e9-8194-9d7ba8e22b57",
   "metadata": {},
   "outputs": [
    {
     "name": "stdout",
     "output_type": "stream",
     "text": [
      "Fitting 5 folds for each of 18 candidates, totalling 90 fits\n",
      "[CV 1/5; 1/18] START C=1, gamma=1, kernel=rbf...................................\n",
      "[CV 1/5; 1/18] END ..C=1, gamma=1, kernel=rbf;, score=-12.589 total time=  16.2s\n",
      "[CV 2/5; 1/18] START C=1, gamma=1, kernel=rbf...................................\n",
      "[CV 2/5; 1/18] END ..C=1, gamma=1, kernel=rbf;, score=-14.898 total time=  16.1s\n",
      "[CV 3/5; 1/18] START C=1, gamma=1, kernel=rbf...................................\n",
      "[CV 3/5; 1/18] END .C=1, gamma=1, kernel=rbf;, score=-13.568 total time=449.4min\n",
      "[CV 4/5; 1/18] START C=1, gamma=1, kernel=rbf...................................\n",
      "[CV 4/5; 1/18] END ..C=1, gamma=1, kernel=rbf;, score=-12.459 total time=  35.0s\n",
      "[CV 5/5; 1/18] START C=1, gamma=1, kernel=rbf...................................\n",
      "[CV 5/5; 1/18] END ..C=1, gamma=1, kernel=rbf;, score=-14.902 total time=  29.1s\n",
      "[CV 1/5; 2/18] START C=1, gamma=0.1, kernel=rbf.................................\n",
      "[CV 1/5; 2/18] END C=1, gamma=0.1, kernel=rbf;, score=-22.782 total time=  24.8s\n",
      "[CV 2/5; 2/18] START C=1, gamma=0.1, kernel=rbf.................................\n",
      "[CV 2/5; 2/18] END C=1, gamma=0.1, kernel=rbf;, score=-24.932 total time=  27.7s\n",
      "[CV 3/5; 2/18] START C=1, gamma=0.1, kernel=rbf.................................\n",
      "[CV 3/5; 2/18] END C=1, gamma=0.1, kernel=rbf;, score=-22.837 total time=  22.0s\n",
      "[CV 4/5; 2/18] START C=1, gamma=0.1, kernel=rbf.................................\n",
      "[CV 4/5; 2/18] END C=1, gamma=0.1, kernel=rbf;, score=-20.961 total time=  21.9s\n",
      "[CV 5/5; 2/18] START C=1, gamma=0.1, kernel=rbf.................................\n",
      "[CV 5/5; 2/18] END C=1, gamma=0.1, kernel=rbf;, score=-23.738 total time=  21.3s\n",
      "[CV 1/5; 3/18] START C=1, gamma=0.01, kernel=rbf................................\n",
      "[CV 1/5; 3/18] END C=1, gamma=0.01, kernel=rbf;, score=-30.359 total time=  21.6s\n",
      "[CV 2/5; 3/18] START C=1, gamma=0.01, kernel=rbf................................\n",
      "[CV 2/5; 3/18] END C=1, gamma=0.01, kernel=rbf;, score=-32.662 total time=  19.4s\n",
      "[CV 3/5; 3/18] START C=1, gamma=0.01, kernel=rbf................................\n",
      "[CV 3/5; 3/18] END C=1, gamma=0.01, kernel=rbf;, score=-29.900 total time=  24.6s\n",
      "[CV 4/5; 3/18] START C=1, gamma=0.01, kernel=rbf................................\n",
      "[CV 4/5; 3/18] END C=1, gamma=0.01, kernel=rbf;, score=-27.795 total time=  23.2s\n",
      "[CV 5/5; 3/18] START C=1, gamma=0.01, kernel=rbf................................\n",
      "[CV 5/5; 3/18] END C=1, gamma=0.01, kernel=rbf;, score=-30.849 total time=  21.1s\n",
      "[CV 1/5; 4/18] START C=10, gamma=1, kernel=rbf..................................\n",
      "[CV 1/5; 4/18] END ..C=10, gamma=1, kernel=rbf;, score=-9.660 total time=  43.3s\n",
      "[CV 2/5; 4/18] START C=10, gamma=1, kernel=rbf..................................\n",
      "[CV 2/5; 4/18] END .C=10, gamma=1, kernel=rbf;, score=-10.486 total time=  35.2s\n",
      "[CV 3/5; 4/18] START C=10, gamma=1, kernel=rbf..................................\n",
      "[CV 3/5; 4/18] END ..C=10, gamma=1, kernel=rbf;, score=-9.856 total time=  39.5s\n",
      "[CV 4/5; 4/18] START C=10, gamma=1, kernel=rbf..................................\n",
      "[CV 4/5; 4/18] END ..C=10, gamma=1, kernel=rbf;, score=-8.978 total time=  37.9s\n",
      "[CV 5/5; 4/18] START C=10, gamma=1, kernel=rbf..................................\n",
      "[CV 5/5; 4/18] END .C=10, gamma=1, kernel=rbf;, score=-11.528 total time=  43.7s\n",
      "[CV 1/5; 5/18] START C=10, gamma=0.1, kernel=rbf................................\n",
      "[CV 1/5; 5/18] END C=10, gamma=0.1, kernel=rbf;, score=-18.724 total time=  25.4s\n",
      "[CV 2/5; 5/18] START C=10, gamma=0.1, kernel=rbf................................\n",
      "[CV 2/5; 5/18] END C=10, gamma=0.1, kernel=rbf;, score=-20.770 total time=  25.8s\n",
      "[CV 3/5; 5/18] START C=10, gamma=0.1, kernel=rbf................................\n",
      "[CV 3/5; 5/18] END C=10, gamma=0.1, kernel=rbf;, score=-19.009 total time=  21.7s\n",
      "[CV 4/5; 5/18] START C=10, gamma=0.1, kernel=rbf................................\n",
      "[CV 4/5; 5/18] END C=10, gamma=0.1, kernel=rbf;, score=-17.360 total time=  24.7s\n",
      "[CV 5/5; 5/18] START C=10, gamma=0.1, kernel=rbf................................\n",
      "[CV 5/5; 5/18] END C=10, gamma=0.1, kernel=rbf;, score=-19.708 total time=  28.4s\n",
      "[CV 1/5; 6/18] START C=10, gamma=0.01, kernel=rbf...............................\n",
      "[CV 1/5; 6/18] END C=10, gamma=0.01, kernel=rbf;, score=-27.889 total time=  21.9s\n",
      "[CV 2/5; 6/18] START C=10, gamma=0.01, kernel=rbf...............................\n",
      "[CV 2/5; 6/18] END C=10, gamma=0.01, kernel=rbf;, score=-30.138 total time=  21.5s\n",
      "[CV 3/5; 6/18] START C=10, gamma=0.01, kernel=rbf...............................\n",
      "[CV 3/5; 6/18] END C=10, gamma=0.01, kernel=rbf;, score=-27.580 total time=  20.8s\n",
      "[CV 4/5; 6/18] START C=10, gamma=0.01, kernel=rbf...............................\n",
      "[CV 4/5; 6/18] END C=10, gamma=0.01, kernel=rbf;, score=-25.653 total time=  21.1s\n",
      "[CV 5/5; 6/18] START C=10, gamma=0.01, kernel=rbf...............................\n",
      "[CV 5/5; 6/18] END C=10, gamma=0.01, kernel=rbf;, score=-28.613 total time=  28.7s\n",
      "[CV 1/5; 7/18] START C=100, gamma=1, kernel=rbf.................................\n",
      "[CV 1/5; 7/18] END .C=100, gamma=1, kernel=rbf;, score=-8.258 total time= 3.5min\n",
      "[CV 2/5; 7/18] START C=100, gamma=1, kernel=rbf.................................\n",
      "[CV 2/5; 7/18] END .C=100, gamma=1, kernel=rbf;, score=-8.509 total time= 3.6min\n",
      "[CV 3/5; 7/18] START C=100, gamma=1, kernel=rbf.................................\n",
      "[CV 3/5; 7/18] END .C=100, gamma=1, kernel=rbf;, score=-7.818 total time= 3.7min\n",
      "[CV 4/5; 7/18] START C=100, gamma=1, kernel=rbf.................................\n",
      "[CV 4/5; 7/18] END .C=100, gamma=1, kernel=rbf;, score=-7.170 total time= 3.2min\n",
      "[CV 5/5; 7/18] START C=100, gamma=1, kernel=rbf.................................\n",
      "[CV 5/5; 7/18] END .C=100, gamma=1, kernel=rbf;, score=-9.200 total time= 3.5min\n",
      "[CV 1/5; 8/18] START C=100, gamma=0.1, kernel=rbf...............................\n",
      "[CV 1/5; 8/18] END C=100, gamma=0.1, kernel=rbf;, score=-15.707 total time=  52.0s\n",
      "[CV 2/5; 8/18] START C=100, gamma=0.1, kernel=rbf...............................\n",
      "[CV 2/5; 8/18] END C=100, gamma=0.1, kernel=rbf;, score=-17.638 total time=  54.0s\n",
      "[CV 3/5; 8/18] START C=100, gamma=0.1, kernel=rbf...............................\n",
      "[CV 3/5; 8/18] END C=100, gamma=0.1, kernel=rbf;, score=-15.984 total time=  52.4s\n",
      "[CV 4/5; 8/18] START C=100, gamma=0.1, kernel=rbf...............................\n",
      "[CV 4/5; 8/18] END C=100, gamma=0.1, kernel=rbf;, score=-14.503 total time=  49.9s\n",
      "[CV 5/5; 8/18] START C=100, gamma=0.1, kernel=rbf...............................\n",
      "[CV 5/5; 8/18] END C=100, gamma=0.1, kernel=rbf;, score=-16.753 total time=  49.0s\n",
      "[CV 1/5; 9/18] START C=100, gamma=0.01, kernel=rbf..............................\n",
      "[CV 1/5; 9/18] END C=100, gamma=0.01, kernel=rbf;, score=-24.902 total time=  26.2s\n",
      "[CV 2/5; 9/18] START C=100, gamma=0.01, kernel=rbf..............................\n",
      "[CV 2/5; 9/18] END C=100, gamma=0.01, kernel=rbf;, score=-27.142 total time=  26.1s\n",
      "[CV 3/5; 9/18] START C=100, gamma=0.01, kernel=rbf..............................\n",
      "[CV 3/5; 9/18] END C=100, gamma=0.01, kernel=rbf;, score=-24.929 total time=  26.7s\n",
      "[CV 4/5; 9/18] START C=100, gamma=0.01, kernel=rbf..............................\n",
      "[CV 4/5; 9/18] END C=100, gamma=0.01, kernel=rbf;, score=-22.951 total time=  24.1s\n",
      "[CV 5/5; 9/18] START C=100, gamma=0.01, kernel=rbf..............................\n",
      "[CV 5/5; 9/18] END C=100, gamma=0.01, kernel=rbf;, score=-25.839 total time=  25.7s\n",
      "[CV 1/5; 10/18] START C=1, degree=1, kernel=poly................................\n",
      "[CV 1/5; 10/18] END C=1, degree=1, kernel=poly;, score=-33.353 total time=  14.3s\n",
      "[CV 2/5; 10/18] START C=1, degree=1, kernel=poly................................\n",
      "[CV 2/5; 10/18] END C=1, degree=1, kernel=poly;, score=-35.976 total time=  13.3s\n",
      "[CV 3/5; 10/18] START C=1, degree=1, kernel=poly................................\n",
      "[CV 3/5; 10/18] END C=1, degree=1, kernel=poly;, score=-32.704 total time=  14.8s\n",
      "[CV 4/5; 10/18] START C=1, degree=1, kernel=poly................................\n",
      "[CV 4/5; 10/18] END C=1, degree=1, kernel=poly;, score=-30.752 total time=  19.4s\n",
      "[CV 5/5; 10/18] START C=1, degree=1, kernel=poly................................\n",
      "[CV 5/5; 10/18] END C=1, degree=1, kernel=poly;, score=-33.696 total time=  15.8s\n",
      "[CV 1/5; 11/18] START C=1, degree=2, kernel=poly................................\n",
      "[CV 1/5; 11/18] END C=1, degree=2, kernel=poly;, score=-32.089 total time=  17.7s\n",
      "[CV 2/5; 11/18] START C=1, degree=2, kernel=poly................................\n",
      "[CV 2/5; 11/18] END C=1, degree=2, kernel=poly;, score=-34.416 total time=  17.1s\n",
      "[CV 3/5; 11/18] START C=1, degree=2, kernel=poly................................\n",
      "[CV 3/5; 11/18] END C=1, degree=2, kernel=poly;, score=-31.453 total time=  16.3s\n",
      "[CV 4/5; 11/18] START C=1, degree=2, kernel=poly................................\n",
      "[CV 4/5; 11/18] END C=1, degree=2, kernel=poly;, score=-29.459 total time=  15.8s\n",
      "[CV 5/5; 11/18] START C=1, degree=2, kernel=poly................................\n",
      "[CV 5/5; 11/18] END C=1, degree=2, kernel=poly;, score=-32.438 total time=  17.2s\n",
      "[CV 1/5; 12/18] START C=1, degree=3, kernel=poly................................\n",
      "[CV 1/5; 12/18] END C=1, degree=3, kernel=poly;, score=-29.474 total time=  18.4s\n",
      "[CV 2/5; 12/18] START C=1, degree=3, kernel=poly................................\n",
      "[CV 2/5; 12/18] END C=1, degree=3, kernel=poly;, score=-31.821 total time=  20.7s\n",
      "[CV 3/5; 12/18] START C=1, degree=3, kernel=poly................................\n",
      "[CV 3/5; 12/18] END C=1, degree=3, kernel=poly;, score=-29.252 total time=  20.3s\n",
      "[CV 4/5; 12/18] START C=1, degree=3, kernel=poly................................\n",
      "[CV 4/5; 12/18] END C=1, degree=3, kernel=poly;, score=-26.987 total time=  22.3s\n",
      "[CV 5/5; 12/18] START C=1, degree=3, kernel=poly................................\n",
      "[CV 5/5; 12/18] END C=1, degree=3, kernel=poly;, score=-29.987 total time=  20.9s\n",
      "[CV 1/5; 13/18] START C=10, degree=1, kernel=poly...............................\n",
      "[CV 1/5; 13/18] END C=10, degree=1, kernel=poly;, score=-33.344 total time=  23.7s\n",
      "[CV 2/5; 13/18] START C=10, degree=1, kernel=poly...............................\n",
      "[CV 2/5; 13/18] END C=10, degree=1, kernel=poly;, score=-35.960 total time=  21.3s\n",
      "[CV 3/5; 13/18] START C=10, degree=1, kernel=poly...............................\n",
      "[CV 3/5; 13/18] END C=10, degree=1, kernel=poly;, score=-32.691 total time=  25.4s\n",
      "[CV 4/5; 13/18] START C=10, degree=1, kernel=poly...............................\n",
      "[CV 4/5; 13/18] END C=10, degree=1, kernel=poly;, score=-30.742 total time=  24.9s\n",
      "[CV 5/5; 13/18] START C=10, degree=1, kernel=poly...............................\n",
      "[CV 5/5; 13/18] END C=10, degree=1, kernel=poly;, score=-33.689 total time=  20.4s\n",
      "[CV 1/5; 14/18] START C=10, degree=2, kernel=poly...............................\n",
      "[CV 1/5; 14/18] END C=10, degree=2, kernel=poly;, score=-32.018 total time=  25.1s\n",
      "[CV 2/5; 14/18] START C=10, degree=2, kernel=poly...............................\n",
      "[CV 2/5; 14/18] END C=10, degree=2, kernel=poly;, score=-34.353 total time=  24.5s\n",
      "[CV 3/5; 14/18] START C=10, degree=2, kernel=poly...............................\n",
      "[CV 3/5; 14/18] END C=10, degree=2, kernel=poly;, score=-31.397 total time=  23.0s\n",
      "[CV 4/5; 14/18] START C=10, degree=2, kernel=poly...............................\n",
      "[CV 4/5; 14/18] END C=10, degree=2, kernel=poly;, score=-29.395 total time=  22.8s\n",
      "[CV 5/5; 14/18] START C=10, degree=2, kernel=poly...............................\n",
      "[CV 5/5; 14/18] END C=10, degree=2, kernel=poly;, score=-32.380 total time=  24.5s\n",
      "[CV 1/5; 15/18] START C=10, degree=3, kernel=poly...............................\n",
      "[CV 1/5; 15/18] END C=10, degree=3, kernel=poly;, score=-27.948 total time=  30.0s\n",
      "[CV 2/5; 15/18] START C=10, degree=3, kernel=poly...............................\n",
      "[CV 2/5; 15/18] END C=10, degree=3, kernel=poly;, score=-30.229 total time=  32.5s\n",
      "[CV 3/5; 15/18] START C=10, degree=3, kernel=poly...............................\n",
      "[CV 3/5; 15/18] END C=10, degree=3, kernel=poly;, score=-27.732 total time=  32.6s\n",
      "[CV 4/5; 15/18] START C=10, degree=3, kernel=poly...............................\n",
      "[CV 4/5; 15/18] END C=10, degree=3, kernel=poly;, score=-25.630 total time=  36.1s\n",
      "[CV 5/5; 15/18] START C=10, degree=3, kernel=poly...............................\n",
      "[CV 5/5; 15/18] END C=10, degree=3, kernel=poly;, score=-28.502 total time=  34.4s\n",
      "[CV 1/5; 16/18] START C=100, degree=1, kernel=poly..............................\n",
      "[CV 1/5; 16/18] END C=100, degree=1, kernel=poly;, score=-33.342 total time= 1.1min\n",
      "[CV 2/5; 16/18] START C=100, degree=1, kernel=poly..............................\n",
      "[CV 2/5; 16/18] END C=100, degree=1, kernel=poly;, score=-35.959 total time= 1.1min\n",
      "[CV 3/5; 16/18] START C=100, degree=1, kernel=poly..............................\n",
      "[CV 3/5; 16/18] END C=100, degree=1, kernel=poly;, score=-32.690 total time=  59.8s\n",
      "[CV 4/5; 16/18] START C=100, degree=1, kernel=poly..............................\n",
      "[CV 4/5; 16/18] END C=100, degree=1, kernel=poly;, score=-30.742 total time=  59.0s\n",
      "[CV 5/5; 16/18] START C=100, degree=1, kernel=poly..............................\n",
      "[CV 5/5; 16/18] END C=100, degree=1, kernel=poly;, score=-33.687 total time=  59.9s\n",
      "[CV 1/5; 17/18] START C=100, degree=2, kernel=poly..............................\n",
      "[CV 1/5; 17/18] END C=100, degree=2, kernel=poly;, score=-32.009 total time= 1.6min\n",
      "[CV 2/5; 17/18] START C=100, degree=2, kernel=poly..............................\n",
      "[CV 2/5; 17/18] END C=100, degree=2, kernel=poly;, score=-34.342 total time= 1.7min\n",
      "[CV 3/5; 17/18] START C=100, degree=2, kernel=poly..............................\n",
      "[CV 3/5; 17/18] END C=100, degree=2, kernel=poly;, score=-31.393 total time= 1.5min\n",
      "[CV 4/5; 17/18] START C=100, degree=2, kernel=poly..............................\n",
      "[CV 4/5; 17/18] END C=100, degree=2, kernel=poly;, score=-29.390 total time= 1.6min\n",
      "[CV 5/5; 17/18] START C=100, degree=2, kernel=poly..............................\n",
      "[CV 5/5; 17/18] END C=100, degree=2, kernel=poly;, score=-32.374 total time= 1.6min\n",
      "[CV 1/5; 18/18] START C=100, degree=3, kernel=poly..............................\n",
      "[CV 1/5; 18/18] END C=100, degree=3, kernel=poly;, score=-27.614 total time= 2.7min\n",
      "[CV 2/5; 18/18] START C=100, degree=3, kernel=poly..............................\n",
      "[CV 2/5; 18/18] END C=100, degree=3, kernel=poly;, score=-29.939 total time= 2.7min\n",
      "[CV 3/5; 18/18] START C=100, degree=3, kernel=poly..............................\n",
      "[CV 3/5; 18/18] END C=100, degree=3, kernel=poly;, score=-27.431 total time= 2.5min\n",
      "[CV 4/5; 18/18] START C=100, degree=3, kernel=poly..............................\n",
      "[CV 4/5; 18/18] END C=100, degree=3, kernel=poly;, score=-25.332 total time= 2.8min\n",
      "[CV 5/5; 18/18] START C=100, degree=3, kernel=poly..............................\n",
      "[CV 5/5; 18/18] END C=100, degree=3, kernel=poly;, score=-28.199 total time= 2.5min\n",
      "Best Parameters: {'C': 100, 'gamma': 1, 'kernel': 'rbf'}\n",
      "Test RMSE: 2.8466623863243505\n",
      "Test R2: 0.7804664939353806\n"
     ]
    }
   ],
   "source": [
    "from sklearn.svm import SVR\n",
    "from sklearn.model_selection import GridSearchCV, train_test_split\n",
    "from sklearn.metrics import mean_squared_error\n",
    "from sklearn.preprocessing import StandardScaler\n",
    "import numpy as np\n",
    "\n",
    "# Prepare the data\n",
    "X_svr = data.drop(columns=[\"Discharge_cms\"])\n",
    "y_svr = data[\"Discharge_cms\"]\n",
    "\n",
    "# Scale the features\n",
    "scaler = StandardScaler()\n",
    "X_svr_scaled = scaler.fit_transform(X_svr)\n",
    "\n",
    "# Train-test split\n",
    "X_train_svr, X_test_svr, y_train_svr, y_test_svr = train_test_split(X_svr_scaled, y_svr, test_size=0.2, random_state=42)\n",
    "\n",
    "# Initialize the SVR model\n",
    "svr = SVR()\n",
    "\n",
    "# Define a parameter grid for GridSearchCV\n",
    "param_grid_svr = [\n",
    "    {'C': [1, 10, 100,], 'gamma': [1, 0.1, 0.01,], 'kernel': ['rbf']},\n",
    "    {'C': [1, 10, 100,], 'degree': [1, 2, 3], 'kernel': ['poly']}]\n",
    "\n",
    "# Perform GridSearchCV for hyperparameter tuning\n",
    "grid_search_svr = GridSearchCV(svr, param_grid_svr, cv=5, scoring=\"neg_mean_squared_error\",verbose=100)\n",
    "grid_search_svr.fit(X_train_svr, y_train_svr)\n",
    "\n",
    "# Best model and predictions\n",
    "best_svr = grid_search_svr.best_estimator_\n",
    "y_pred_svr = best_svr.predict(X_test_svr)\n",
    "\n",
    "# Evaluate the model\n",
    "test_rmse_svr = np.sqrt(mean_squared_error(y_test_svr, y_pred_svr))\n",
    "test_r2_svr = r2_score(y_test_svr, y_pred_svr)\n",
    "# Print results\n",
    "print(\"Best Parameters:\", grid_search_svr.best_params_)\n",
    "print(\"Test RMSE:\", test_rmse_svr)\n",
    "print(\"Test R2:\", test_r2_svr)"
   ]
  },
  {
   "cell_type": "markdown",
   "id": "05b38a69-ebbf-4e0e-b5a5-20a83d855d50",
   "metadata": {},
   "source": [
    "### Feature Importances"
   ]
  },
  {
   "cell_type": "markdown",
   "id": "015ac710-afd8-4071-84ea-41991dae6b63",
   "metadata": {},
   "source": [
    "#### Random Forest Feature Importance"
   ]
  },
  {
   "cell_type": "code",
   "execution_count": 193,
   "id": "aa55c345-264e-49e7-9440-c9ac8597bddb",
   "metadata": {},
   "outputs": [],
   "source": [
    "imp = list(best_xgb.feature_importances_ [:5])\n",
    "site_imp = sum(best_xgb.feature_importances_ [5:])\n",
    "imp.append(site_imp)"
   ]
  },
  {
   "cell_type": "code",
   "execution_count": 195,
   "id": "62e0ae66-2cdd-4dd0-8417-5cbbca03fce5",
   "metadata": {},
   "outputs": [
    {
     "data": {
      "image/png": "[encoded data removed]",
      "text/plain": [
       "<Figure size 640x480 with 1 Axes>"
      ]
     },
     "metadata": {},
     "output_type": "display_data"
    }
   ],
   "source": [
    "sns.barplot(imp)\n",
    "plt.xticks(ticks = range(0,6),labels=['P','T','Area','Month','Year','Site'])\n",
    "plt.ylabel('Feature Importance Coefficient')\n",
    "plt.xlabel('Features')\n",
    "plt.tight_layout()\n",
    "plt.show()"
   ]
  },
  {
   "cell_type": "code",
   "execution_count": 196,
   "id": "4d816ac9-0d9e-47f8-9635-b580eef0ffc2",
   "metadata": {},
   "outputs": [],
   "source": [
    "from sklearn.inspection import permutation_importance\n",
    "result = permutation_importance(best_xgb, X_test_xgb, y_test_xgb, scoring='r2', random_state=42)"
   ]
  },
  {
   "cell_type": "code",
   "execution_count": 202,
   "id": "9a58ec30-5637-4da9-8894-d71f0b360373",
   "metadata": {},
   "outputs": [
    {
     "data": {
      "image/png": "[encoded data removed]",
      "text/plain": [
       "<Figure size 640x480 with 1 Axes>"
      ]
     },
     "metadata": {},
     "output_type": "display_data"
    }
   ],
   "source": [
    "imp = list(result['importances_mean'][0:5])\n",
    "site_imp = sum(result['importances_mean'][5:])\n",
    "imp.append(site_imp)\n",
    "sns.barplot(imp)\n",
    "plt.xticks(ticks = range(0,6),labels=['P','T','Area','Month','Year','Site'])\n",
    "plt.ylabel('Permutation Feature Importance Coefficient')\n",
    "plt.xlabel('Features')\n",
    "plt.tight_layout()\n",
    "plt.show()"
   ]
  },
  {
   "cell_type": "code",
   "execution_count": null,
   "id": "be96f643-9ca7-49ba-bb60-91895fa4e5d5",
   "metadata": {},
   "outputs": [],
   "source": []
  }
 ],
 "metadata": {
  "kernelspec": {
   "display_name": "Python 3 (ipykernel)",
   "language": "python",
   "name": "python3"
  },
  "language_info": {
   "codemirror_mode": {
    "name": "ipython",
    "version": 3
   },
   "file_extension": ".py",
   "mimetype": "text/x-python",
   "name": "python",
   "nbconvert_exporter": "python",
   "pygments_lexer": "ipython3",
   "version": "3.11.5"
  }
 },
 "nbformat": 4,
 "nbformat_minor": 5
}
